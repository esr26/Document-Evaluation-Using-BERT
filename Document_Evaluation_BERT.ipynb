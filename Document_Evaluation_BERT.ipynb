{
  "cells": [
    {
      "cell_type": "code",
      "execution_count": 45,
      "id": "3056ecc0",
      "metadata": {
        "_cell_guid": "b1076dfc-b9ad-4769-8c92-a6c4dae69d19",
        "_kg_hide-input": false,
        "_kg_hide-output": true,
        "_uuid": "8f2839f25d086af736a60e9eeb907d3b93b6e0e5",
        "collapsed": true,
        "execution": {
          "iopub.execute_input": "2022-10-02T17:43:10.225349Z",
          "iopub.status.busy": "2022-10-02T17:43:10.224572Z",
          "iopub.status.idle": "2022-10-02T17:43:10.349785Z",
          "shell.execute_reply": "2022-10-02T17:43:10.348698Z"
        },
        "jupyter": {
          "outputs_hidden": true
        },
        "papermill": {
          "duration": 0.138847,
          "end_time": "2022-10-02T17:43:10.354455",
          "exception": false,
          "start_time": "2022-10-02T17:43:10.215608",
          "status": "completed"
        },
        "tags": [],
        "id": "3056ecc0"
      },
      "outputs": [],
      "source": [
        "# This Python 3 environment comes with many helpful analytics libraries installed\n",
        "# It is defined by the kaggle/python Docker image: https://github.com/kaggle/docker-python\n",
        "# For example, here's several helpful packages to load\n",
        "\n",
        "import numpy as np # linear algebra\n",
        "import pandas as pd # data processing, CSV file I/O (e.g. pd.read_csv)\n",
        "\n",
        "# Input data files are available in the read-only \"../input/\" directory\n",
        "# For example, running this (by clicking run or pressing Shift+Enter) will list all files under the input directory\n",
        "\n",
        "\n",
        "\n",
        "# You can write up to 20GB to the current directory (/kaggle/working/) that gets preserved as output when you create a version using \"Save & Run All\" \n",
        "# You can also write temporary files to /kaggle/temp/, but they won't be saved outside of the current session"
      ]
    },
    {
      "cell_type": "markdown",
      "id": "2f478509",
      "metadata": {
        "papermill": {
          "duration": 0.006084,
          "end_time": "2022-10-02T17:43:10.368072",
          "exception": false,
          "start_time": "2022-10-02T17:43:10.361988",
          "status": "completed"
        },
        "tags": [],
        "id": "2f478509"
      },
      "source": [
        "> PS : Still new in NLP so I really appreciate any advice regarding the structure of the notebook.\n",
        "\n",
        "<div style=\"color:white;display:fill;\n",
        "            background-color:#00bbe0;font-size:150%;\n",
        "            font-family:Nexa;letter-spacing:0.5px\">\n",
        "    <p style=\"padding: 4px;color:white;\"><b>Table of Contents</b></p>\n",
        "</div>\n",
        "\n",
        "<a id=\"toc\"></a>\n",
        "\n",
        "- [1.1 Importing Libraries and Data](#1)\n",
        "\n",
        "        \n",
        "- [2.1 EDA](#2)\n",
        "\n",
        "\n",
        "- [3.1 Text Preprocessing](#3)\n",
        "\n",
        "\n",
        "- [4.1 Model Creatiion and Training](#4)\n",
        "    - 4.2 Splitting Train and Test datasets\n",
        "    - 4.3 Importing transformers\n",
        "    - 4.4 Bert Tokenizer creation\n",
        "    - 4.5 Datasets creation for train and test using tensorflow and tokenizer\n",
        "    - 4.6 Bert Model Creation\n",
        "    - 4.7 Training\n",
        "\n",
        "\n",
        "- [5.1 Prediction and Submission](#5)\n",
        "\n"
      ]
    },
    {
      "cell_type": "markdown",
      "id": "0c2e51e0",
      "metadata": {
        "execution": {
          "iopub.execute_input": "2022-10-02T16:59:13.118448Z",
          "iopub.status.busy": "2022-10-02T16:59:13.117861Z",
          "iopub.status.idle": "2022-10-02T16:59:13.134112Z",
          "shell.execute_reply": "2022-10-02T16:59:13.132693Z",
          "shell.execute_reply.started": "2022-10-02T16:59:13.118335Z"
        },
        "papermill": {
          "duration": 0.005979,
          "end_time": "2022-10-02T17:43:10.380533",
          "exception": false,
          "start_time": "2022-10-02T17:43:10.374554",
          "status": "completed"
        },
        "tags": [],
        "id": "0c2e51e0"
      },
      "source": [
        "<a id=\"1\"></a>\n",
        "\n",
        "<div style=\"color:white;display:fill;\n",
        "            background-color:#00bbe0;font-size:150%;\n",
        "            font-family:Nexa;letter-spacing:0.5px\">\n",
        "    <p style=\"padding: 4px;color:white;\"><b>1.1 Importing Libraries and Data</b></p>\n",
        "</div>\n",
        "\n",
        "* importing bert offline model from huggingface-bert-variants kaggle dataset"
      ]
    },
    {
      "cell_type": "code",
      "execution_count": 79,
      "id": "93931246",
      "metadata": {
        "execution": {
          "iopub.execute_input": "2022-10-02T17:43:10.394834Z",
          "iopub.status.busy": "2022-10-02T17:43:10.394004Z",
          "iopub.status.idle": "2022-10-02T17:43:11.534327Z",
          "shell.execute_reply": "2022-10-02T17:43:11.532509Z"
        },
        "papermill": {
          "duration": 1.151647,
          "end_time": "2022-10-02T17:43:11.538429",
          "exception": false,
          "start_time": "2022-10-02T17:43:10.386782",
          "status": "completed"
        },
        "tags": [],
        "colab": {
          "base_uri": "https://localhost:8080/"
        },
        "id": "93931246",
        "outputId": "c1f0149e-010a-4599-b2ad-30a81668173e"
      },
      "outputs": [
        {
          "output_type": "execute_result",
          "data": {
            "text/plain": [
              "(text_id        0\n",
              " full_text      0\n",
              " cohesion       0\n",
              " syntax         0\n",
              " vocabulary     0\n",
              " phraseology    0\n",
              " grammar        0\n",
              " conventions    0\n",
              " dtype: int64, (3911, 8))"
            ]
          },
          "metadata": {},
          "execution_count": 79
        }
      ],
      "source": [
        "import seaborn as sns\n",
        "import matplotlib.pyplot as plt\n",
        "sns.set(style='darkgrid', font_scale=1)\n",
        "\n",
        "train_df = pd.read_csv('train.csv')\n",
        "test_df = pd.read_csv('test.csv')\n",
        "sample_df = pd.read_csv('sample_submission.csv')\n",
        "\n",
        "# Checking for null values\n",
        "train_df.isnull().sum() ,train_df.shape"
      ]
    },
    {
      "cell_type": "code",
      "execution_count": null,
      "id": "d93c277e",
      "metadata": {
        "execution": {
          "iopub.execute_input": "2022-10-02T17:43:11.564860Z",
          "iopub.status.busy": "2022-10-02T17:43:11.564469Z",
          "iopub.status.idle": "2022-10-02T17:43:11.570727Z",
          "shell.execute_reply": "2022-10-02T17:43:11.569419Z"
        },
        "papermill": {
          "duration": 0.021478,
          "end_time": "2022-10-02T17:43:11.573741",
          "exception": false,
          "start_time": "2022-10-02T17:43:11.552263",
          "status": "completed"
        },
        "tags": [],
        "id": "d93c277e"
      },
      "outputs": [],
      "source": []
    },
    {
      "cell_type": "markdown",
      "id": "bb98b509",
      "metadata": {
        "papermill": {
          "duration": 0.009806,
          "end_time": "2022-10-02T17:43:11.594544",
          "exception": false,
          "start_time": "2022-10-02T17:43:11.584738",
          "status": "completed"
        },
        "tags": [],
        "id": "bb98b509"
      },
      "source": [
        "<a id=\"2\"></a>\n",
        "\n",
        "<div style=\"color:white;display:fill;\n",
        "            background-color:#00bbe0;font-size:150%;\n",
        "            font-family:Nexa;letter-spacing:0.5px\">\n",
        "    <p style=\"padding: 4px;color:white;\"><b>2.1 EDA</b></p>\n",
        "</div>\n",
        "\n"
      ]
    },
    {
      "cell_type": "code",
      "execution_count": 80,
      "id": "027e9472",
      "metadata": {
        "execution": {
          "iopub.execute_input": "2022-10-02T17:43:11.613366Z",
          "iopub.status.busy": "2022-10-02T17:43:11.612985Z",
          "iopub.status.idle": "2022-10-02T17:43:13.253946Z",
          "shell.execute_reply": "2022-10-02T17:43:13.252622Z"
        },
        "papermill": {
          "duration": 1.655339,
          "end_time": "2022-10-02T17:43:13.257654",
          "exception": false,
          "start_time": "2022-10-02T17:43:11.602315",
          "status": "completed"
        },
        "tags": [],
        "colab": {
          "base_uri": "https://localhost:8080/",
          "height": 441
        },
        "id": "027e9472",
        "outputId": "519414e3-3f87-427f-8bee-79aab20e01d2"
      },
      "outputs": [
        {
          "output_type": "display_data",
          "data": {
            "text/plain": [
              "<Figure size 1080x432 with 6 Axes>"
            ],
            "image/png": "[encoded data removed]"
          },
          "metadata": {}
        }
      ],
      "source": [
        "targets = ['cohesion', 'syntax', 'vocabulary', 'phraseology', 'grammar', 'conventions']\n",
        "\n",
        "fig, axes = plt.subplots(2, len(targets)//2, figsize=(15,6))\n",
        "\n",
        "for i, target in enumerate(targets):\n",
        "    ax = axes.flat[i]\n",
        "    sns.histplot(x=target, data=train_df, linewidth=1.25, alpha=1, ax=ax, zorder=2)\n",
        "    ax.set_title(target)\n",
        "    ax.set(xlabel=None, ylabel=None)\n",
        "    \n",
        "fig.suptitle('Output Variables')\n",
        "plt.tight_layout()\n",
        "plt.show()\n"
      ]
    },
    {
      "cell_type": "code",
      "execution_count": 81,
      "id": "6a4a3cff",
      "metadata": {
        "execution": {
          "iopub.execute_input": "2022-10-02T17:43:13.283373Z",
          "iopub.status.busy": "2022-10-02T17:43:13.282821Z",
          "iopub.status.idle": "2022-10-02T17:43:13.822211Z",
          "shell.execute_reply": "2022-10-02T17:43:13.821234Z"
        },
        "papermill": {
          "duration": 0.554049,
          "end_time": "2022-10-02T17:43:13.824248",
          "exception": false,
          "start_time": "2022-10-02T17:43:13.270199",
          "status": "completed"
        },
        "tags": [],
        "colab": {
          "base_uri": "https://localhost:8080/",
          "height": 651
        },
        "id": "6a4a3cff",
        "outputId": "52c3d245-f017-49b8-97cc-4e20c0c36117"
      },
      "outputs": [
        {
          "output_type": "display_data",
          "data": {
            "text/plain": [
              "<Figure size 792x792 with 2 Axes>"
            ],
            "image/png": "[encoded data removed]"
          },
          "metadata": {}
        },
        {
          "output_type": "execute_result",
          "data": {
            "text/plain": [
              "Index(['syntax', 'phraseology', 'grammar', 'conventions', 'vocabulary'], dtype='object')"
            ]
          },
          "metadata": {},
          "execution_count": 81
        }
      ],
      "source": [
        "k = len(train_df.columns) #number of variables for heatmap\n",
        "f,ax = plt.subplots(figsize=(11, 11))\n",
        "cols = train_df.corr().abs().nlargest(k, 'syntax')['syntax'].index\n",
        "cm = np.corrcoef(train_df[cols].values.T)\n",
        "sns.set(font_scale=1.25)\n",
        "hm = sns.heatmap(cm, cbar=True, annot=True, square=True, fmt='.2f', annot_kws={'size': 10}, yticklabels=cols.values, xticklabels=cols.values)\n",
        "plt.show()\n",
        "cols = cols.drop('cohesion')\n",
        "cols"
      ]
    },
    {
      "cell_type": "markdown",
      "id": "a993d100",
      "metadata": {
        "papermill": {
          "duration": 0.007241,
          "end_time": "2022-10-02T17:43:13.839302",
          "exception": false,
          "start_time": "2022-10-02T17:43:13.832061",
          "status": "completed"
        },
        "tags": [],
        "id": "a993d100"
      },
      "source": [
        "<a id=\"3\"></a>\n",
        "\n",
        "<div style=\"color:white;display:fill;\n",
        "            background-color:#00bbe0;font-size:150%;\n",
        "            font-family:Nexa;letter-spacing:0.5px\">\n",
        "    <p style=\"padding: 4px;color:white;\"><b>3.1 Text Preprocessing</b></p>\n",
        "</div>"
      ]
    },
    {
      "cell_type": "code",
      "execution_count": 82,
      "id": "7dc433ff",
      "metadata": {
        "execution": {
          "iopub.execute_input": "2022-10-02T17:43:13.855362Z",
          "iopub.status.busy": "2022-10-02T17:43:13.855056Z",
          "iopub.status.idle": "2022-10-02T17:43:13.864756Z",
          "shell.execute_reply": "2022-10-02T17:43:13.863508Z"
        },
        "papermill": {
          "duration": 0.020343,
          "end_time": "2022-10-02T17:43:13.866953",
          "exception": false,
          "start_time": "2022-10-02T17:43:13.846610",
          "status": "completed"
        },
        "tags": [],
        "colab": {
          "base_uri": "https://localhost:8080/"
        },
        "id": "7dc433ff",
        "outputId": "5057eaee-9656-4f3b-a723-398b2ae3ea9b"
      },
      "outputs": [
        {
          "output_type": "stream",
          "name": "stdout",
          "text": [
            "all_data size is : (3914, 7)\n"
          ]
        }
      ],
      "source": [
        "# Merging Train and Test Data\n",
        "ntrain = train_df.shape[0]\n",
        "ntest = test_df.shape[0]\n",
        "all_data = pd.concat((train_df, test_df)).reset_index(drop=True)\n",
        "all_data.drop(['text_id'], axis=1, inplace=True)\n",
        "print(\"all_data size is : {}\".format(all_data.shape))"
      ]
    },
    {
      "cell_type": "code",
      "execution_count": 83,
      "id": "5265276f",
      "metadata": {
        "execution": {
          "iopub.execute_input": "2022-10-02T17:43:13.884476Z",
          "iopub.status.busy": "2022-10-02T17:43:13.882932Z",
          "iopub.status.idle": "2022-10-02T17:43:14.557617Z",
          "shell.execute_reply": "2022-10-02T17:43:14.556655Z"
        },
        "papermill": {
          "duration": 0.685228,
          "end_time": "2022-10-02T17:43:14.559952",
          "exception": false,
          "start_time": "2022-10-02T17:43:13.874724",
          "status": "completed"
        },
        "tags": [],
        "colab": {
          "base_uri": "https://localhost:8080/"
        },
        "id": "5265276f",
        "outputId": "25f41b1b-1e95-45c3-ed0d-922e4b56e2b2"
      },
      "outputs": [
        {
          "output_type": "stream",
          "name": "stderr",
          "text": [
            "[nltk_data] Downloading collection 'popular'\n",
            "[nltk_data]    | \n",
            "[nltk_data]    | Downloading package cmudict to /root/nltk_data...\n",
            "[nltk_data]    |   Package cmudict is already up-to-date!\n",
            "[nltk_data]    | Downloading package gazetteers to /root/nltk_data...\n",
            "[nltk_data]    |   Package gazetteers is already up-to-date!\n",
            "[nltk_data]    | Downloading package genesis to /root/nltk_data...\n",
            "[nltk_data]    |   Package genesis is already up-to-date!\n",
            "[nltk_data]    | Downloading package gutenberg to /root/nltk_data...\n",
            "[nltk_data]    |   Package gutenberg is already up-to-date!\n",
            "[nltk_data]    | Downloading package inaugural to /root/nltk_data...\n",
            "[nltk_data]    |   Package inaugural is already up-to-date!\n",
            "[nltk_data]    | Downloading package movie_reviews to\n",
            "[nltk_data]    |     /root/nltk_data...\n",
            "[nltk_data]    |   Package movie_reviews is already up-to-date!\n",
            "[nltk_data]    | Downloading package names to /root/nltk_data...\n",
            "[nltk_data]    |   Package names is already up-to-date!\n",
            "[nltk_data]    | Downloading package shakespeare to /root/nltk_data...\n",
            "[nltk_data]    |   Package shakespeare is already up-to-date!\n",
            "[nltk_data]    | Downloading package stopwords to /root/nltk_data...\n",
            "[nltk_data]    |   Package stopwords is already up-to-date!\n",
            "[nltk_data]    | Downloading package treebank to /root/nltk_data...\n",
            "[nltk_data]    |   Package treebank is already up-to-date!\n",
            "[nltk_data]    | Downloading package twitter_samples to\n",
            "[nltk_data]    |     /root/nltk_data...\n",
            "[nltk_data]    |   Package twitter_samples is already up-to-date!\n",
            "[nltk_data]    | Downloading package omw to /root/nltk_data...\n",
            "[nltk_data]    |   Package omw is already up-to-date!\n",
            "[nltk_data]    | Downloading package omw-1.4 to /root/nltk_data...\n",
            "[nltk_data]    |   Package omw-1.4 is already up-to-date!\n",
            "[nltk_data]    | Downloading package wordnet to /root/nltk_data...\n",
            "[nltk_data]    |   Package wordnet is already up-to-date!\n",
            "[nltk_data]    | Downloading package wordnet2021 to /root/nltk_data...\n",
            "[nltk_data]    |   Package wordnet2021 is already up-to-date!\n",
            "[nltk_data]    | Downloading package wordnet31 to /root/nltk_data...\n",
            "[nltk_data]    |   Package wordnet31 is already up-to-date!\n",
            "[nltk_data]    | Downloading package wordnet_ic to /root/nltk_data...\n",
            "[nltk_data]    |   Package wordnet_ic is already up-to-date!\n",
            "[nltk_data]    | Downloading package words to /root/nltk_data...\n",
            "[nltk_data]    |   Package words is already up-to-date!\n",
            "[nltk_data]    | Downloading package maxent_ne_chunker to\n",
            "[nltk_data]    |     /root/nltk_data...\n",
            "[nltk_data]    |   Package maxent_ne_chunker is already up-to-date!\n",
            "[nltk_data]    | Downloading package punkt to /root/nltk_data...\n",
            "[nltk_data]    |   Package punkt is already up-to-date!\n",
            "[nltk_data]    | Downloading package snowball_data to\n",
            "[nltk_data]    |     /root/nltk_data...\n",
            "[nltk_data]    |   Package snowball_data is already up-to-date!\n",
            "[nltk_data]    | Downloading package averaged_perceptron_tagger to\n",
            "[nltk_data]    |     /root/nltk_data...\n",
            "[nltk_data]    |   Package averaged_perceptron_tagger is already up-\n",
            "[nltk_data]    |       to-date!\n",
            "[nltk_data]    | \n",
            "[nltk_data]  Done downloading collection popular\n"
          ]
        }
      ],
      "source": [
        "import string\n",
        "import nltk\n",
        "from nltk.corpus import stopwords\n",
        "nltk.download('popular')\n",
        "PUNCT_TO_REMOVE = string.punctuation\n",
        "STOPWORDS = set(stopwords.words('english'))\n",
        "from nltk.stem import PorterStemmer\n",
        "from nltk.stem import WordNetLemmatizer\n",
        "import re\n",
        "\n",
        "# Create an instance of a PorterStemmer object\n",
        "lemmatizer = WordNetLemmatizer()\n",
        "\n",
        "def preprocess(phrase):\n",
        "\n",
        "  phrase = re.sub(r\"won't\", \"will not\", phrase)\n",
        "  phrase = re.sub(r\"can't\", \"can not\", phrase)\n",
        "  phrase = re.sub(r\"n\\'t\", \" not\", phrase)\n",
        "  phrase = re.sub(r\"\\'re\", \" are\", phrase)\n",
        "  phrase = re.sub(r\"\\'s\", \" is\", phrase)\n",
        "  phrase = re.sub(r\"\\'d\", \" would\", phrase)\n",
        "  phrase = re.sub(r\"\\'ll\", \" will\", phrase)\n",
        "  phrase = re.sub(r\"\\'t\", \" not\", phrase)\n",
        "  phrase = re.sub(r\"\\'ve\", \" have\", phrase)\n",
        "  phrase = re.sub(r\"\\'m\", \" am\", phrase)\n",
        "  phrase = phrase.replace('\\\\r', ' ')\n",
        "  phrase = phrase.replace('\\\\n', ' ')\n",
        "  phrase = phrase.replace('\\\\\"', ' ')\n",
        "  phrase = re.sub('[^A-Za-z0-9]+', ' ', phrase)\n",
        "  \n",
        "\n",
        "  return phrase\n"
      ]
    },
    {
      "cell_type": "code",
      "execution_count": 84,
      "id": "64f86ef2",
      "metadata": {
        "execution": {
          "iopub.execute_input": "2022-10-02T17:43:14.576479Z",
          "iopub.status.busy": "2022-10-02T17:43:14.576170Z",
          "iopub.status.idle": "2022-10-02T17:43:14.582470Z",
          "shell.execute_reply": "2022-10-02T17:43:14.581316Z"
        },
        "papermill": {
          "duration": 0.016738,
          "end_time": "2022-10-02T17:43:14.584502",
          "exception": false,
          "start_time": "2022-10-02T17:43:14.567764",
          "status": "completed"
        },
        "tags": [],
        "colab": {
          "base_uri": "https://localhost:8080/"
        },
        "id": "64f86ef2",
        "outputId": "3f8a7cd5-951b-4a7e-85f3-f9008792689e"
      },
      "outputs": [
        {
          "output_type": "stream",
          "name": "stdout",
          "text": [
            "Our fffff Deeds are the Reason of insta this earthquake M\n"
          ]
        }
      ],
      "source": [
        "test = 'Our \\'fffff\\'Deeds are the . Reason of @insta this #earthquake M'\n",
        "print(preprocess(test))"
      ]
    },
    {
      "cell_type": "code",
      "execution_count": 85,
      "id": "c10f1ea0",
      "metadata": {
        "execution": {
          "iopub.execute_input": "2022-10-02T17:43:14.600635Z",
          "iopub.status.busy": "2022-10-02T17:43:14.600375Z",
          "iopub.status.idle": "2022-10-02T17:43:14.962097Z",
          "shell.execute_reply": "2022-10-02T17:43:14.961174Z"
        },
        "papermill": {
          "duration": 0.372222,
          "end_time": "2022-10-02T17:43:14.964262",
          "exception": false,
          "start_time": "2022-10-02T17:43:14.592040",
          "status": "completed"
        },
        "tags": [],
        "id": "c10f1ea0"
      },
      "outputs": [],
      "source": [
        "all_data['full_text'] = all_data['full_text'].apply(lambda text : preprocess(text))"
      ]
    },
    {
      "cell_type": "markdown",
      "id": "d015cd0c",
      "metadata": {
        "papermill": {
          "duration": 0.008026,
          "end_time": "2022-10-02T17:43:14.982098",
          "exception": false,
          "start_time": "2022-10-02T17:43:14.974072",
          "status": "completed"
        },
        "tags": [],
        "id": "d015cd0c"
      },
      "source": [
        "<a id=\"4\"></a>\n",
        "\n",
        "<div style=\"color:white;display:fill;\n",
        "            background-color:#00bbe0;font-size:150%;\n",
        "            font-family:Nexa;letter-spacing:0.5px\">\n",
        "    <p style=\"padding: 4px;color:white;\"><b>4.1 Model Creation and Training</b></p>\n",
        "</div>\n",
        "\n",
        "#### 4.2 Splitting Train and Test datasets"
      ]
    },
    {
      "cell_type": "code",
      "execution_count": 86,
      "id": "9d807663",
      "metadata": {
        "execution": {
          "iopub.execute_input": "2022-10-02T17:43:14.998705Z",
          "iopub.status.busy": "2022-10-02T17:43:14.998385Z",
          "iopub.status.idle": "2022-10-02T17:43:15.005732Z",
          "shell.execute_reply": "2022-10-02T17:43:15.004751Z"
        },
        "papermill": {
          "duration": 0.018095,
          "end_time": "2022-10-02T17:43:15.007933",
          "exception": false,
          "start_time": "2022-10-02T17:43:14.989838",
          "status": "completed"
        },
        "tags": [],
        "colab": {
          "base_uri": "https://localhost:8080/"
        },
        "id": "9d807663",
        "outputId": "2df9f173-3f16-4313-cf1b-2b782d917100"
      },
      "outputs": [
        {
          "output_type": "execute_result",
          "data": {
            "text/plain": [
              "((3911, 7), (3, 7))"
            ]
          },
          "metadata": {},
          "execution_count": 86
        }
      ],
      "source": [
        "train_data = all_data[:ntrain].copy()\n",
        "test_data = all_data[ntrain:]\n",
        "\n",
        "train_data.shape , test_data.shape"
      ]
    },
    {
      "cell_type": "code",
      "execution_count": 110,
      "id": "dac9f515",
      "metadata": {
        "execution": {
          "iopub.execute_input": "2022-10-02T17:43:15.024390Z",
          "iopub.status.busy": "2022-10-02T17:43:15.024093Z",
          "iopub.status.idle": "2022-10-02T17:43:15.095224Z",
          "shell.execute_reply": "2022-10-02T17:43:15.094050Z"
        },
        "papermill": {
          "duration": 0.081808,
          "end_time": "2022-10-02T17:43:15.097448",
          "exception": false,
          "start_time": "2022-10-02T17:43:15.015640",
          "status": "completed"
        },
        "tags": [],
        "id": "dac9f515"
      },
      "outputs": [],
      "source": [
        "BATCH_SIZE = 6\n",
        "\n",
        "MAX_LEN = 512"
      ]
    },
    {
      "cell_type": "markdown",
      "id": "f8921738",
      "metadata": {
        "papermill": {
          "duration": 0.007691,
          "end_time": "2022-10-02T17:43:15.113305",
          "exception": false,
          "start_time": "2022-10-02T17:43:15.105614",
          "status": "completed"
        },
        "tags": [],
        "id": "f8921738"
      },
      "source": [
        "#### 4.3 Importing transformers"
      ]
    },
    {
      "cell_type": "code",
      "execution_count": 111,
      "id": "024779a2",
      "metadata": {
        "execution": {
          "iopub.execute_input": "2022-10-02T17:43:15.129688Z",
          "iopub.status.busy": "2022-10-02T17:43:15.129426Z",
          "iopub.status.idle": "2022-10-02T17:43:27.101608Z",
          "shell.execute_reply": "2022-10-02T17:43:27.100606Z"
        },
        "papermill": {
          "duration": 11.983616,
          "end_time": "2022-10-02T17:43:27.104590",
          "exception": false,
          "start_time": "2022-10-02T17:43:15.120974",
          "status": "completed"
        },
        "tags": [],
        "colab": {
          "base_uri": "https://localhost:8080/"
        },
        "id": "024779a2",
        "outputId": "1e31df96-1d12-4b12-b070-dbff6b34e5b6"
      },
      "outputs": [
        {
          "output_type": "stream",
          "name": "stdout",
          "text": [
            "Looking in indexes: https://pypi.org/simple, https://us-python.pkg.dev/colab-wheels/public/simple/\n",
            "Requirement already satisfied: transformers in /usr/local/lib/python3.7/dist-packages (4.22.2)\n",
            "Requirement already satisfied: pyyaml>=5.1 in /usr/local/lib/python3.7/dist-packages (from transformers) (6.0)\n",
            "Requirement already satisfied: numpy>=1.17 in /usr/local/lib/python3.7/dist-packages (from transformers) (1.21.6)\n",
            "Requirement already satisfied: packaging>=20.0 in /usr/local/lib/python3.7/dist-packages (from transformers) (21.3)\n",
            "Requirement already satisfied: huggingface-hub<1.0,>=0.9.0 in /usr/local/lib/python3.7/dist-packages (from transformers) (0.10.0)\n",
            "Requirement already satisfied: filelock in /usr/local/lib/python3.7/dist-packages (from transformers) (3.8.0)\n",
            "Requirement already satisfied: regex!=2019.12.17 in /usr/local/lib/python3.7/dist-packages (from transformers) (2022.6.2)\n",
            "Requirement already satisfied: tokenizers!=0.11.3,<0.13,>=0.11.1 in /usr/local/lib/python3.7/dist-packages (from transformers) (0.12.1)\n",
            "Requirement already satisfied: tqdm>=4.27 in /usr/local/lib/python3.7/dist-packages (from transformers) (4.64.1)\n",
            "Requirement already satisfied: importlib-metadata in /usr/local/lib/python3.7/dist-packages (from transformers) (4.12.0)\n",
            "Requirement already satisfied: requests in /usr/local/lib/python3.7/dist-packages (from transformers) (2.23.0)\n",
            "Requirement already satisfied: typing-extensions>=3.7.4.3 in /usr/local/lib/python3.7/dist-packages (from huggingface-hub<1.0,>=0.9.0->transformers) (4.1.1)\n",
            "Requirement already satisfied: pyparsing!=3.0.5,>=2.0.2 in /usr/local/lib/python3.7/dist-packages (from packaging>=20.0->transformers) (3.0.9)\n",
            "Requirement already satisfied: zipp>=0.5 in /usr/local/lib/python3.7/dist-packages (from importlib-metadata->transformers) (3.8.1)\n",
            "Requirement already satisfied: urllib3!=1.25.0,!=1.25.1,<1.26,>=1.21.1 in /usr/local/lib/python3.7/dist-packages (from requests->transformers) (1.24.3)\n",
            "Requirement already satisfied: chardet<4,>=3.0.2 in /usr/local/lib/python3.7/dist-packages (from requests->transformers) (3.0.4)\n",
            "Requirement already satisfied: certifi>=2017.4.17 in /usr/local/lib/python3.7/dist-packages (from requests->transformers) (2022.6.15)\n",
            "Requirement already satisfied: idna<3,>=2.5 in /usr/local/lib/python3.7/dist-packages (from requests->transformers) (2.10)\n"
          ]
        }
      ],
      "source": [
        "import tensorflow as tf\n",
        "! pip install transformers\n",
        "from transformers import BertTokenizer , TFBertModel \n",
        "\n",
        "AUTO = tf.data.experimental.AUTOTUNE"
      ]
    },
    {
      "cell_type": "markdown",
      "id": "5747872c",
      "metadata": {
        "papermill": {
          "duration": 0.011506,
          "end_time": "2022-10-02T17:43:27.128543",
          "exception": false,
          "start_time": "2022-10-02T17:43:27.117037",
          "status": "completed"
        },
        "tags": [],
        "id": "5747872c"
      },
      "source": [
        "#### 4.3 Bert Tokenizer creation"
      ]
    },
    {
      "cell_type": "markdown",
      "id": "e4eece19",
      "metadata": {
        "papermill": {
          "duration": 0.012966,
          "end_time": "2022-10-02T17:43:27.278847",
          "exception": false,
          "start_time": "2022-10-02T17:43:27.265881",
          "status": "completed"
        },
        "tags": [],
        "id": "e4eece19"
      },
      "source": [
        "#### 4.4 Datasets creation for train and test using tensorflow and tokenizer"
      ]
    },
    {
      "cell_type": "code",
      "source": [
        "tokenizer = BertTokenizer.from_pretrained('bert-base-cased')"
      ],
      "metadata": {
        "id": "0o_YEvIWACyj"
      },
      "id": "0o_YEvIWACyj",
      "execution_count": 112,
      "outputs": []
    },
    {
      "cell_type": "code",
      "execution_count": 113,
      "id": "4f67dc9e",
      "metadata": {
        "execution": {
          "iopub.execute_input": "2022-10-02T17:43:27.305095Z",
          "iopub.status.busy": "2022-10-02T17:43:27.304704Z",
          "iopub.status.idle": "2022-10-02T17:43:27.310811Z",
          "shell.execute_reply": "2022-10-02T17:43:27.309954Z"
        },
        "papermill": {
          "duration": 0.021688,
          "end_time": "2022-10-02T17:43:27.313422",
          "exception": false,
          "start_time": "2022-10-02T17:43:27.291734",
          "status": "completed"
        },
        "tags": [],
        "id": "4f67dc9e"
      },
      "outputs": [],
      "source": [
        "def encode(input_text):\n",
        "    inputs = tokenizer.batch_encode_plus(input_text,padding='max_length',max_length=MAX_LEN, truncation=True)\n",
        "    return inputs"
      ]
    },
    {
      "cell_type": "code",
      "execution_count": 114,
      "id": "10cf33f8",
      "metadata": {
        "execution": {
          "iopub.execute_input": "2022-10-02T17:43:27.339541Z",
          "iopub.status.busy": "2022-10-02T17:43:27.339178Z",
          "iopub.status.idle": "2022-10-02T17:44:11.077329Z",
          "shell.execute_reply": "2022-10-02T17:44:11.076234Z"
        },
        "papermill": {
          "duration": 43.754028,
          "end_time": "2022-10-02T17:44:11.079882",
          "exception": false,
          "start_time": "2022-10-02T17:43:27.325854",
          "status": "completed"
        },
        "tags": [],
        "id": "10cf33f8"
      },
      "outputs": [],
      "source": [
        "train_input = encode(train_data['full_text'].values.tolist())['input_ids']\n",
        "\n",
        "train_data_ds = (\n",
        "    tf.data.Dataset\n",
        "    .from_tensor_slices((train_input,train_data.drop('full_text', axis = 1)))\n",
        "    .repeat()\n",
        "    .batch(BATCH_SIZE)\n",
        "    .prefetch(AUTO)\n",
        ")"
      ]
    },
    {
      "cell_type": "code",
      "execution_count": 115,
      "id": "6891dfa5",
      "metadata": {
        "execution": {
          "iopub.execute_input": "2022-10-02T17:44:11.099047Z",
          "iopub.status.busy": "2022-10-02T17:44:11.097355Z",
          "iopub.status.idle": "2022-10-02T17:44:11.151118Z",
          "shell.execute_reply": "2022-10-02T17:44:11.150234Z"
        },
        "papermill": {
          "duration": 0.064959,
          "end_time": "2022-10-02T17:44:11.153236",
          "exception": false,
          "start_time": "2022-10-02T17:44:11.088277",
          "status": "completed"
        },
        "tags": [],
        "id": "6891dfa5"
      },
      "outputs": [],
      "source": [
        "testing_input = encode(test_data.full_text.values.tolist())['input_ids']\n",
        "\n",
        "test_dataset = (\n",
        "    tf.data.Dataset\n",
        "    .from_tensor_slices(testing_input)\n",
        "    .batch(BATCH_SIZE)\n",
        ")"
      ]
    },
    {
      "cell_type": "markdown",
      "id": "770ae12a",
      "metadata": {
        "papermill": {
          "duration": 0.007686,
          "end_time": "2022-10-02T17:44:11.170399",
          "exception": false,
          "start_time": "2022-10-02T17:44:11.162713",
          "status": "completed"
        },
        "tags": [],
        "id": "770ae12a"
      },
      "source": [
        "#### Helper functions"
      ]
    },
    {
      "cell_type": "code",
      "execution_count": 116,
      "id": "64598043",
      "metadata": {
        "execution": {
          "iopub.execute_input": "2022-10-02T17:44:11.188541Z",
          "iopub.status.busy": "2022-10-02T17:44:11.186960Z",
          "iopub.status.idle": "2022-10-02T17:44:11.192593Z",
          "shell.execute_reply": "2022-10-02T17:44:11.191712Z"
        },
        "papermill": {
          "duration": 0.016346,
          "end_time": "2022-10-02T17:44:11.194531",
          "exception": false,
          "start_time": "2022-10-02T17:44:11.178185",
          "status": "completed"
        },
        "tags": [],
        "id": "64598043"
      },
      "outputs": [],
      "source": [
        "# Custom error function MCRMSE : column wise root mean squared eoor\n",
        "def MCRMSE(y_true, y_pred):\n",
        "    colwise_mse = tf.reduce_mean(tf.square(y_true - y_pred), axis=1)\n",
        "    return tf.reduce_mean(tf.sqrt(colwise_mse), axis=-1, keepdims=True)"
      ]
    },
    {
      "cell_type": "code",
      "execution_count": 117,
      "id": "04f42d76",
      "metadata": {
        "execution": {
          "iopub.execute_input": "2022-10-02T17:44:11.211204Z",
          "iopub.status.busy": "2022-10-02T17:44:11.210950Z",
          "iopub.status.idle": "2022-10-02T17:44:11.217057Z",
          "shell.execute_reply": "2022-10-02T17:44:11.216173Z"
        },
        "papermill": {
          "duration": 0.016675,
          "end_time": "2022-10-02T17:44:11.219037",
          "exception": false,
          "start_time": "2022-10-02T17:44:11.202362",
          "status": "completed"
        },
        "tags": [],
        "id": "04f42d76"
      },
      "outputs": [],
      "source": [
        "from transformers import DistilBertConfig\n",
        "def create_model():\n",
        "    \n",
        "    bert_encoder = TFBertModel.from_pretrained('bert-base-cased')\n",
        "    input_word_ids = tf.keras.Input(shape=(MAX_LEN,), dtype=tf.int32, name=\"input_word_ids\")\n",
        "\n",
        "    embedding = bert_encoder(input_word_ids)[0]\n",
        "    x = tf.keras.layers.GlobalAveragePooling1D()(embedding)\n",
        "    x = tf.keras.layers.LayerNormalization()(x)\n",
        "    #Output layer without activation function because regression task\n",
        "    output = tf.keras.layers.Dense(6,)(x)\n",
        "\n",
        "    model = tf.keras.models.Model(inputs=input_word_ids, outputs=output)\n",
        "    model.compile(optimizer=tf.keras.optimizers.Adam(1e-5), loss=MCRMSE\n",
        "                  , metrics=MCRMSE)\n",
        "\n",
        "    return model"
      ]
    },
    {
      "cell_type": "markdown",
      "id": "3e9eda2c",
      "metadata": {
        "papermill": {
          "duration": 0.007765,
          "end_time": "2022-10-02T17:44:11.234527",
          "exception": false,
          "start_time": "2022-10-02T17:44:11.226762",
          "status": "completed"
        },
        "tags": [],
        "id": "3e9eda2c"
      },
      "source": [
        "#### 4.5 Bert Model creation"
      ]
    },
    {
      "cell_type": "code",
      "execution_count": 118,
      "id": "3dd5b6a9",
      "metadata": {
        "execution": {
          "iopub.execute_input": "2022-10-02T17:44:11.251219Z",
          "iopub.status.busy": "2022-10-02T17:44:11.250967Z",
          "iopub.status.idle": "2022-10-02T17:44:24.751879Z",
          "shell.execute_reply": "2022-10-02T17:44:24.750672Z"
        },
        "papermill": {
          "duration": 13.511797,
          "end_time": "2022-10-02T17:44:24.754182",
          "exception": false,
          "start_time": "2022-10-02T17:44:11.242385",
          "status": "completed"
        },
        "tags": [],
        "colab": {
          "base_uri": "https://localhost:8080/"
        },
        "id": "3dd5b6a9",
        "outputId": "2769c4c0-945b-4e64-e7c2-805d0d087ec7"
      },
      "outputs": [
        {
          "output_type": "stream",
          "name": "stderr",
          "text": [
            "Some layers from the model checkpoint at bert-base-cased were not used when initializing TFBertModel: ['nsp___cls', 'mlm___cls']\n",
            "- This IS expected if you are initializing TFBertModel from the checkpoint of a model trained on another task or with another architecture (e.g. initializing a BertForSequenceClassification model from a BertForPreTraining model).\n",
            "- This IS NOT expected if you are initializing TFBertModel from the checkpoint of a model that you expect to be exactly identical (initializing a BertForSequenceClassification model from a BertForSequenceClassification model).\n",
            "All the layers of TFBertModel were initialized from the model checkpoint at bert-base-cased.\n",
            "If your task is similar to the task the model of the checkpoint was trained on, you can already use TFBertModel for predictions without further training.\n"
          ]
        },
        {
          "output_type": "stream",
          "name": "stdout",
          "text": [
            "Model: \"model_7\"\n",
            "_________________________________________________________________\n",
            " Layer (type)                Output Shape              Param #   \n",
            "=================================================================\n",
            " input_word_ids (InputLayer)  [(None, 512)]            0         \n",
            "                                                                 \n",
            " tf_bert_model_4 (TFBertMode  TFBaseModelOutputWithPoo  108310272\n",
            " l)                          lingAndCrossAttentions(l            \n",
            "                             ast_hidden_state=(None,             \n",
            "                             512, 768),                          \n",
            "                              pooler_output=(None, 76            \n",
            "                             8),                                 \n",
            "                              past_key_values=None, h            \n",
            "                             idden_states=None, atten            \n",
            "                             tions=None, cross_attent            \n",
            "                             ions=None)                          \n",
            "                                                                 \n",
            " global_average_pooling1d_7   (None, 768)              0         \n",
            " (GlobalAveragePooling1D)                                        \n",
            "                                                                 \n",
            " layer_normalization_7 (Laye  (None, 768)              1536      \n",
            " rNormalization)                                                 \n",
            "                                                                 \n",
            " dense_7 (Dense)             (None, 6)                 4614      \n",
            "                                                                 \n",
            "=================================================================\n",
            "Total params: 108,316,422\n",
            "Trainable params: 108,316,422\n",
            "Non-trainable params: 0\n",
            "_________________________________________________________________\n"
          ]
        }
      ],
      "source": [
        "model= create_model()\n",
        "model.summary()"
      ]
    },
    {
      "cell_type": "code",
      "execution_count": 119,
      "id": "c85a7def",
      "metadata": {
        "execution": {
          "iopub.execute_input": "2022-10-02T17:44:24.772714Z",
          "iopub.status.busy": "2022-10-02T17:44:24.772245Z",
          "iopub.status.idle": "2022-10-02T17:44:25.046635Z",
          "shell.execute_reply": "2022-10-02T17:44:25.045554Z"
        },
        "papermill": {
          "duration": 0.286553,
          "end_time": "2022-10-02T17:44:25.049255",
          "exception": false,
          "start_time": "2022-10-02T17:44:24.762702",
          "status": "completed"
        },
        "tags": [],
        "colab": {
          "base_uri": "https://localhost:8080/"
        },
        "id": "c85a7def",
        "outputId": "2016c3e6-6246-447e-c177-7bdb28e96007"
      },
      "outputs": [
        {
          "output_type": "execute_result",
          "data": {
            "text/plain": [
              "42805"
            ]
          },
          "metadata": {},
          "execution_count": 119
        }
      ],
      "source": [
        "import  gc\n",
        "gc.collect()"
      ]
    },
    {
      "cell_type": "code",
      "execution_count": 120,
      "id": "46cb3bc8",
      "metadata": {
        "execution": {
          "iopub.execute_input": "2022-10-02T17:44:25.067767Z",
          "iopub.status.busy": "2022-10-02T17:44:25.067470Z",
          "iopub.status.idle": "2022-10-02T17:44:25.073167Z",
          "shell.execute_reply": "2022-10-02T17:44:25.072262Z"
        },
        "papermill": {
          "duration": 0.017057,
          "end_time": "2022-10-02T17:44:25.075041",
          "exception": false,
          "start_time": "2022-10-02T17:44:25.057984",
          "status": "completed"
        },
        "tags": [],
        "colab": {
          "base_uri": "https://localhost:8080/"
        },
        "id": "46cb3bc8",
        "outputId": "c5e1edf9-b5fe-44b0-e4ba-d2d5f7eebfe8"
      },
      "outputs": [
        {
          "output_type": "execute_result",
          "data": {
            "text/plain": [
              "6"
            ]
          },
          "metadata": {},
          "execution_count": 120
        }
      ],
      "source": [
        "BATCH_SIZE"
      ]
    },
    {
      "cell_type": "markdown",
      "id": "3419de5f",
      "metadata": {
        "papermill": {
          "duration": 0.008392,
          "end_time": "2022-10-02T17:44:25.091764",
          "exception": false,
          "start_time": "2022-10-02T17:44:25.083372",
          "status": "completed"
        },
        "tags": [],
        "id": "3419de5f"
      },
      "source": [
        "#### 4.6 Training"
      ]
    },
    {
      "cell_type": "code",
      "execution_count": null,
      "id": "6a609f39",
      "metadata": {
        "execution": {
          "iopub.execute_input": "2022-10-02T17:44:25.110311Z",
          "iopub.status.busy": "2022-10-02T17:44:25.109434Z",
          "iopub.status.idle": "2022-10-02T18:00:01.714155Z",
          "shell.execute_reply": "2022-10-02T18:00:01.713094Z"
        },
        "papermill": {
          "duration": 936.61666,
          "end_time": "2022-10-02T18:00:01.716750",
          "exception": false,
          "start_time": "2022-10-02T17:44:25.100090",
          "status": "completed"
        },
        "tags": [],
        "colab": {
          "base_uri": "https://localhost:8080/"
        },
        "id": "6a609f39",
        "outputId": "6d15063f-ec83-4def-8312-23377e846a54"
      },
      "outputs": [
        {
          "metadata": {
            "tags": null
          },
          "name": "stdout",
          "output_type": "stream",
          "text": [
            "Epoch 1/3\n"
          ]
        },
        {
          "metadata": {
            "tags": null
          },
          "name": "stderr",
          "output_type": "stream",
          "text": [
            "WARNING:tensorflow:Gradients do not exist for variables ['tf_bert_model_4/bert/pooler/dense/kernel:0', 'tf_bert_model_4/bert/pooler/dense/bias:0'] when minimizing the loss. If you're using `model.compile()`, did you forget to provide a `loss`argument?\n",
            "WARNING:tensorflow:Gradients do not exist for variables ['tf_bert_model_4/bert/pooler/dense/kernel:0', 'tf_bert_model_4/bert/pooler/dense/bias:0'] when minimizing the loss. If you're using `model.compile()`, did you forget to provide a `loss`argument?\n"
          ]
        },
        {
          "output_type": "stream",
          "name": "stdout",
          "text": [
            "106/651 [===>..........................] - ETA: 5:47:38 - loss: 0.7161 - MCRMSE: 0.7161"
          ]
        }
      ],
      "source": [
        "from tensorflow.keras.callbacks import EarlyStopping\n",
        "\n",
        "callback = tf.keras.callbacks.EarlyStopping(monitor='MCRMSE', patience = 2 ,restore_best_weights=True)\n",
        "\n",
        "history = model.fit(\n",
        "                    train_data_ds, \n",
        "                    steps_per_epoch= train_data.shape[0]//BATCH_SIZE,\n",
        "                    batch_size = BATCH_SIZE,\n",
        "                    epochs= 3,\n",
        "                    verbose = 1,\n",
        "                    shuffle= True,\n",
        "                    callbacks=[callback]\n",
        "                       )"
      ]
    },
    {
      "cell_type": "markdown",
      "id": "34f3372c",
      "metadata": {
        "papermill": {
          "duration": 0.104281,
          "end_time": "2022-10-02T18:00:01.926306",
          "exception": false,
          "start_time": "2022-10-02T18:00:01.822025",
          "status": "completed"
        },
        "tags": [],
        "id": "34f3372c"
      },
      "source": [
        "<a id=\"5\"></a>\n",
        "\n",
        "<div style=\"color:white;display:fill;\n",
        "            background-color:#00bbe0;font-size:150%;\n",
        "            font-family:Nexa;letter-spacing:0.5px\">\n",
        "    <p style=\"padding: 4px;color:white;\"><b>Prediction + Submission</b></p>\n",
        "</div>"
      ]
    },
    {
      "cell_type": "code",
      "execution_count": null,
      "id": "1f7ab719",
      "metadata": {
        "execution": {
          "iopub.execute_input": "2022-10-02T18:00:02.136082Z",
          "iopub.status.busy": "2022-10-02T18:00:02.135729Z",
          "iopub.status.idle": "2022-10-02T18:00:04.659375Z",
          "shell.execute_reply": "2022-10-02T18:00:04.658316Z"
        },
        "papermill": {
          "duration": 2.632048,
          "end_time": "2022-10-02T18:00:04.662627",
          "exception": false,
          "start_time": "2022-10-02T18:00:02.030579",
          "status": "completed"
        },
        "tags": [],
        "id": "1f7ab719",
        "outputId": "dbb24f1f-ad70-4047-f322-c20be9a6569a"
      },
      "outputs": [
        {
          "data": {
            "text/html": [
              "<div>\n",
              "<style scoped>\n",
              "    .dataframe tbody tr th:only-of-type {\n",
              "        vertical-align: middle;\n",
              "    }\n",
              "\n",
              "    .dataframe tbody tr th {\n",
              "        vertical-align: top;\n",
              "    }\n",
              "\n",
              "    .dataframe thead th {\n",
              "        text-align: right;\n",
              "    }\n",
              "</style>\n",
              "<table border=\"1\" class=\"dataframe\">\n",
              "  <thead>\n",
              "    <tr style=\"text-align: right;\">\n",
              "      <th></th>\n",
              "      <th>text_id</th>\n",
              "      <th>cohesion</th>\n",
              "      <th>syntax</th>\n",
              "      <th>vocabulary</th>\n",
              "      <th>phraseology</th>\n",
              "      <th>grammar</th>\n",
              "      <th>conventions</th>\n",
              "    </tr>\n",
              "  </thead>\n",
              "  <tbody>\n",
              "    <tr>\n",
              "      <th>0</th>\n",
              "      <td>0000C359D63E</td>\n",
              "      <td>3.140685</td>\n",
              "      <td>2.923225</td>\n",
              "      <td>3.160581</td>\n",
              "      <td>3.042206</td>\n",
              "      <td>2.776313</td>\n",
              "      <td>2.779055</td>\n",
              "    </tr>\n",
              "    <tr>\n",
              "      <th>1</th>\n",
              "      <td>000BAD50D026</td>\n",
              "      <td>2.831664</td>\n",
              "      <td>2.536848</td>\n",
              "      <td>2.768464</td>\n",
              "      <td>2.402229</td>\n",
              "      <td>2.251981</td>\n",
              "      <td>2.817396</td>\n",
              "    </tr>\n",
              "    <tr>\n",
              "      <th>2</th>\n",
              "      <td>00367BB2546B</td>\n",
              "      <td>3.847869</td>\n",
              "      <td>3.622557</td>\n",
              "      <td>3.685078</td>\n",
              "      <td>3.712913</td>\n",
              "      <td>3.654544</td>\n",
              "      <td>3.789134</td>\n",
              "    </tr>\n",
              "  </tbody>\n",
              "</table>\n",
              "</div>"
            ],
            "text/plain": [
              "        text_id  cohesion    syntax  vocabulary  phraseology   grammar  \\\n",
              "0  0000C359D63E  3.140685  2.923225    3.160581     3.042206  2.776313   \n",
              "1  000BAD50D026  2.831664  2.536848    2.768464     2.402229  2.251981   \n",
              "2  00367BB2546B  3.847869  3.622557    3.685078     3.712913  3.654544   \n",
              "\n",
              "   conventions  \n",
              "0     2.779055  \n",
              "1     2.817396  \n",
              "2     3.789134  "
            ]
          },
          "execution_count": 23,
          "metadata": {},
          "output_type": "execute_result"
        }
      ],
      "source": [
        "sub = pd.DataFrame(sample_df)\n",
        "sub[['cohesion','syntax','vocabulary','phraseology','grammar','conventions']] = model.predict(test_dataset)\n",
        "sub.to_csv('submission.csv',index=False)\n",
        "sub"
      ]
    },
    {
      "cell_type": "markdown",
      "id": "a9f21d16",
      "metadata": {
        "papermill": {
          "duration": 0.104138,
          "end_time": "2022-10-02T18:00:04.874271",
          "exception": false,
          "start_time": "2022-10-02T18:00:04.770133",
          "status": "completed"
        },
        "tags": [],
        "id": "a9f21d16"
      },
      "source": [
        "# "
      ]
    }
  ],
  "metadata": {
    "kernelspec": {
      "display_name": "Python 3",
      "language": "python",
      "name": "python3"
    },
    "language_info": {
      "codemirror_mode": {
        "name": "ipython",
        "version": 3
      },
      "file_extension": ".py",
      "mimetype": "text/x-python",
      "name": "python",
      "nbconvert_exporter": "python",
      "pygments_lexer": "ipython3",
      "version": "3.7.12"
    },
    "papermill": {
      "default_parameters": {},
      "duration": 1025.770487,
      "end_time": "2022-10-02T18:00:08.239646",
      "environment_variables": {},
      "exception": null,
      "input_path": "__notebook__.ipynb",
      "output_path": "__notebook__.ipynb",
      "parameters": {},
      "start_time": "2022-10-02T17:43:02.469159",
      "version": "2.3.4"
    },
    "colab": {
      "provenance": []
    }
  },
  "nbformat": 4,
  "nbformat_minor": 5
}